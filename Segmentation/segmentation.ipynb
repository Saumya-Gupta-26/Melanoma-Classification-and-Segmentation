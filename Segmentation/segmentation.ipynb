{
 "cells": [
  {
   "cell_type": "code",
   "execution_count": 1,
   "metadata": {},
   "outputs": [
    {
     "name": "stderr",
     "output_type": "stream",
     "text": [
      "/home/saumya/.local/lib/python2.7/site-packages/h5py/__init__.py:36: FutureWarning: Conversion of the second argument of issubdtype from `float` to `np.floating` is deprecated. In future, it will be treated as `np.float64 == np.dtype(float).type`.\n",
      "  from ._conv import register_converters as _register_converters\n",
      "Using TensorFlow backend.\n"
     ]
    }
   ],
   "source": [
    "import argparse\n",
    "import Models , LoadBatches"
   ]
  },
  {
   "cell_type": "code",
   "execution_count": 2,
   "metadata": {},
   "outputs": [],
   "source": [
    "train_images_path = \"data/images_train/\"\n",
    "train_segs_path = \"data/annotations_train/\"\n",
    "train_batch_size = 2\n",
    "n_classes = 2\n",
    "input_height = 224\n",
    "input_width = 224\n",
    "validate = True\n",
    "save_weights_path = \"weight\"\n",
    "epochs = 5\n",
    "load_weights = \"\"\n",
    "\n",
    "optimizer_name = \"adadelta\"\n",
    "model_name = \"fcn32\""
   ]
  },
  {
   "cell_type": "code",
   "execution_count": 3,
   "metadata": {},
   "outputs": [],
   "source": [
    "if validate:\n",
    "\tval_images_path = \"data/images_val/\"\n",
    "\tval_segs_path = \"data/annotations_val/\"\n",
    "\tval_batch_size = 2"
   ]
  },
  {
   "cell_type": "code",
   "execution_count": 4,
   "metadata": {},
   "outputs": [
    {
     "name": "stdout",
     "output_type": "stream",
     "text": [
      "koko (None, 2, 256, 256)\n"
     ]
    }
   ],
   "source": [
    "modelFns = { 'fcn32':Models.FCN32.FCN32   }\n",
    "modelFN = modelFns[ model_name ]\n",
    "\n",
    "m = modelFN( n_classes , input_height=input_height, input_width=input_width   )\n",
    "m.compile(loss='categorical_crossentropy',\n",
    "      optimizer= optimizer_name ,\n",
    "      metrics=['accuracy'])\n",
    "\n",
    "\n",
    "if len( load_weights ) > 0:\n",
    "\tm.load_weights(load_weights)"
   ]
  },
  {
   "cell_type": "code",
   "execution_count": 5,
   "metadata": {},
   "outputs": [
    {
     "name": "stdout",
     "output_type": "stream",
     "text": [
      "Model output shape (None, 65536, 2)\n"
     ]
    }
   ],
   "source": [
    "print \"Model output shape\" ,  m.output_shape\n",
    "\n",
    "output_height = m.outputHeight\n",
    "output_width = m.outputWidth\n",
    "\n",
    "G  = LoadBatches.imageSegmentationGenerator( train_images_path , train_segs_path ,  train_batch_size,  n_classes , input_height , input_width , output_height , output_width   )"
   ]
  },
  {
   "cell_type": "code",
   "execution_count": 6,
   "metadata": {},
   "outputs": [
    {
     "name": "stdout",
     "output_type": "stream",
     "text": [
      "Epoch 1/1\n",
      "512/512 [==============================] - 7186s 14s/step - loss: 1.4933 - acc: 0.8856 - val_loss: 1.3434 - val_acc: 0.9132\n",
      "Epoch 1/1\n",
      "512/512 [==============================] - 7195s 14s/step - loss: 1.2155 - acc: 0.9126 - val_loss: 1.3478 - val_acc: 0.9132\n",
      "Epoch 1/1\n",
      "512/512 [==============================] - 7200s 14s/step - loss: 1.5527 - acc: 0.8851 - val_loss: 1.7717 - val_acc: 0.8846\n",
      "Epoch 1/1\n",
      "512/512 [==============================] - 7206s 14s/step - loss: 1.2888 - acc: 0.9063 - val_loss: 1.3911 - val_acc: 0.9102\n",
      "Epoch 1/1\n",
      "512/512 [==============================] - 7225s 14s/step - loss: 1.2413 - acc: 0.9099 - val_loss: 1.3906 - val_acc: 0.9102\n"
     ]
    }
   ],
   "source": [
    "if validate:\n",
    "\tG2  = LoadBatches.imageSegmentationGenerator( val_images_path , val_segs_path ,  val_batch_size,  n_classes , input_height , input_width , output_height , output_width   )\n",
    "\n",
    "if not validate:\n",
    "\tfor ep in range( epochs ):\n",
    "\t\tm.fit_generator( G , 512  , epochs=1 )\n",
    "\t\tm.save_weights( save_weights_path + \".\" + str( ep ) )\n",
    "\t\tm.save( save_weights_path + \".model.\" + str( ep ) )\n",
    "else:\n",
    "\tfor ep in range( epochs ):\n",
    "\t\tm.fit_generator( G , 512  , validation_data=G2 , validation_steps=200 ,  epochs=1 )\n",
    "\t\tm.save_weights( save_weights_path + \".\" + str( ep )  )\n",
    "\t\tm.save( save_weights_path + \".model.\" + str( ep ) )"
   ]
  }
 ],
 "metadata": {
  "kernelspec": {
   "display_name": "Python 2",
   "language": "python",
   "name": "python2"
  },
  "language_info": {
   "codemirror_mode": {
    "name": "ipython",
    "version": 2
   },
   "file_extension": ".py",
   "mimetype": "text/x-python",
   "name": "python",
   "nbconvert_exporter": "python",
   "pygments_lexer": "ipython2",
   "version": "2.7.12"
  }
 },
 "nbformat": 4,
 "nbformat_minor": 2
}
