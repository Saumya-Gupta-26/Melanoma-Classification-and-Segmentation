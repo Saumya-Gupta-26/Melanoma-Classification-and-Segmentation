{
 "cells": [
  {
   "cell_type": "code",
   "execution_count": 23,
   "metadata": {},
   "outputs": [],
   "source": [
    "import Models , LoadBatches\n",
    "from keras.models import load_model\n",
    "import glob\n",
    "import cv2\n",
    "import numpy as np\n",
    "import random"
   ]
  },
  {
   "cell_type": "code",
   "execution_count": 24,
   "metadata": {},
   "outputs": [],
   "source": [
    "n_classes = 2\n",
    "model_name = \"fcn32\"\n",
    "images_path = \"data/images_test/\"\n",
    "input_width =  224\n",
    "input_height = 224\n",
    "epoch_number = 4"
   ]
  },
  {
   "cell_type": "code",
   "execution_count": 25,
   "metadata": {},
   "outputs": [],
   "source": [
    "modelFns = { 'fcn32':Models.FCN32.FCN32   }\n",
    "modelFN = modelFns[ model_name ]"
   ]
  },
  {
   "cell_type": "code",
   "execution_count": 26,
   "metadata": {},
   "outputs": [
    {
     "name": "stdout",
     "output_type": "stream",
     "text": [
      "koko (None, 2, 256, 256)\n"
     ]
    }
   ],
   "source": [
    "m = modelFN( n_classes , input_height=input_height, input_width=input_width   )\n",
    "\n",
    "m.load_weights(  \"weight\" + \".\" + str(  epoch_number )  )\n",
    "\n",
    "m.compile(loss='categorical_crossentropy',\n",
    "      optimizer= 'adadelta' ,\n",
    "      metrics=['accuracy'])"
   ]
  },
  {
   "cell_type": "code",
   "execution_count": 27,
   "metadata": {},
   "outputs": [],
   "source": [
    "output_height = m.outputHeight\n",
    "output_width = m.outputWidth\n",
    "score=0"
   ]
  },
  {
   "cell_type": "code",
   "execution_count": 28,
   "metadata": {},
   "outputs": [],
   "source": [
    "images = glob.glob( images_path + \"*.jpg\"  ) + glob.glob( images_path + \"*.png\"  ) +  glob.glob( images_path + \"*.jpeg\"  )\n",
    "images.sort()\n",
    "\n",
    "colors = [  ( random.randint(0,255),random.randint(0,255),random.randint(0,255)   ) for _ in range(n_classes)  ]"
   ]
  },
  {
   "cell_type": "code",
   "execution_count": 29,
   "metadata": {},
   "outputs": [],
   "source": [
    "# running the trained model on 500 unseen images\n",
    "for imgName in images:\n",
    "\toutName = imgName.replace( images_path ,  \"data/predictions/\" )\n",
    "\tX = LoadBatches.getImageArr(imgName , input_width  , input_height  )\n",
    "\tpr = m.predict( np.array([X]) )[0]\n",
    "\tscore += m.evaluate(np.array([X]),pr)[1] \n",
    "\tpr = pr.reshape(( output_height ,  output_width , n_classes ) ).argmax( axis=2 )\n",
    "\tseg_img = np.zeros( ( output_height , output_width , 3  ) )\n",
    "\tfor c in range(n_classes):\n",
    "\t\tseg_img[:,:,0] += ( (pr[:,: ] == c )*( colors[c][0] )).astype('uint8')\n",
    "\t\tseg_img[:,:,1] += ((pr[:,: ] == c )*( colors[c][1] )).astype('uint8')\n",
    "\t\tseg_img[:,:,2] += ((pr[:,: ] == c )*( colors[c][2] )).astype('uint8')\n",
    "\tseg_img = cv2.resize(seg_img  , (input_width , input_height ))\n",
    "\tcv2.imwrite(  outName , seg_img )"
   ]
  },
  {
   "cell_type": "code",
   "execution_count": 30,
   "metadata": {},
   "outputs": [
    {
     "name": "stdout",
     "output_type": "stream",
     "text": [
      "Accuracy: 0.72913333\n"
     ]
    }
   ],
   "source": [
    "# the accuracy is at pixel level\n",
    "print (\"Accuracy: \" + score/500)"
   ]
  }
 ],
 "metadata": {
  "kernelspec": {
   "display_name": "Python 2",
   "language": "python",
   "name": "python2"
  },
  "language_info": {
   "codemirror_mode": {
    "name": "ipython",
    "version": 2
   },
   "file_extension": ".py",
   "mimetype": "text/x-python",
   "name": "python",
   "nbconvert_exporter": "python",
   "pygments_lexer": "ipython2",
   "version": "2.7.12"
  }
 },
 "nbformat": 4,
 "nbformat_minor": 2
}
